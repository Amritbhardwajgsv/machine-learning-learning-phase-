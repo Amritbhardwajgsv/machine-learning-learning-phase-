{
  "cells": [
    {
      "cell_type": "code",
      "execution_count": null,
      "metadata": {
        "id": "Ufu0msbiT9xi"
      },
      "outputs": [
        {
          "ename": "",
          "evalue": "",
          "output_type": "error",
          "traceback": [
            "\u001b[1;31mRunning cells with 'geni (Python 3.11.8)' requires the ipykernel package.\n",
            "\u001b[1;31m<a href='command:jupyter.createPythonEnvAndSelectController'>Create a Python Environment</a> with the required packages.\n",
            "\u001b[1;31mOr install 'ipykernel' using the command: 'conda install -n geni ipykernel --update-deps --force-reinstall'"
          ]
        }
      ],
      "source": [
        "import pandas as pd"
      ]
    },
    {
      "cell_type": "code",
      "execution_count": null,
      "metadata": {
        "colab": {
          "base_uri": "https://localhost:8080/",
          "height": 458
        },
        "id": "qXw0cADyUH0a",
        "outputId": "d064d324-8f16-4321-9e9b-0526ebbe6116"
      },
      "outputs": [],
      "source": [
        "pd.read_csv('/content/StudentsPerformance.csv')"
      ]
    },
    {
      "cell_type": "code",
      "execution_count": null,
      "metadata": {
        "colab": {
          "base_uri": "https://localhost:8080/",
          "height": 458
        },
        "id": "hCcgEcF4VK-m",
        "outputId": "cea2b708-17be-4c20-a51c-6d2d2a8a4767"
      },
      "outputs": [],
      "source": [
        "pd.read_csv('/content/StudentsPerformance.csv',header=0)"
      ]
    },
    {
      "cell_type": "markdown",
      "metadata": {
        "id": "tIDDhi33Vbhw"
      },
      "source": [
        "# **header keyword is used to fix the row data but by default header keyword is identified by the row with initiallised serial number 0 **"
      ]
    },
    {
      "cell_type": "code",
      "execution_count": null,
      "metadata": {
        "id": "FI6JdfvoVP_V"
      },
      "outputs": [],
      "source": []
    },
    {
      "cell_type": "markdown",
      "metadata": {
        "id": "fCjtFFDxWDsU"
      },
      "source": [
        "## naming the column of your wish\n"
      ]
    },
    {
      "cell_type": "code",
      "execution_count": null,
      "metadata": {
        "colab": {
          "base_uri": "https://localhost:8080/",
          "height": 423
        },
        "id": "N0q37h1PWINR",
        "outputId": "1aed21bc-1302-4b98-f31f-484da16a39f0"
      },
      "outputs": [],
      "source": [
        "pd.read_csv('/content/StudentsPerformance.csv',header=0,names=['a','b','c','d','e','f','g','h'])"
      ]
    },
    {
      "cell_type": "markdown",
      "metadata": {
        "id": "4SnkXStfWbBV"
      },
      "source": [
        "**if you provide fewer names than the existing columns, pandas will name the columns from left to right using the provided names. The remaining columns that were not assigned a new name will keep their original names from the header row (which is typically the first row, as seen in your earlier examples).\n",
        "\n",
        "So, if you have 8 columns in your CSV and provide only 5 names using the names parameter, the first 5 columns will be named according to your list, and the last 3 columns will retain the names from the original header row.**\n",
        "\n"
      ]
    },
    {
      "cell_type": "code",
      "execution_count": null,
      "metadata": {
        "colab": {
          "base_uri": "https://localhost:8080/",
          "height": 510
        },
        "id": "56viDikSWf0-",
        "outputId": "bdfec714-f0b9-4879-82a7-9297c35d0a9d"
      },
      "outputs": [],
      "source": [
        "pd.read_csv('/content/demo_mlexpec.tsv')"
      ]
    },
    {
      "cell_type": "markdown",
      "metadata": {
        "id": "tUMgs0MudzZo"
      },
      "source": []
    },
    {
      "cell_type": "markdown",
      "metadata": {
        "id": "wP2F3Ixrduqn"
      },
      "source": [
        "// you can observe here that if we dont knoe the seperator we will be in deep trouble\n"
      ]
    },
    {
      "cell_type": "code",
      "execution_count": null,
      "metadata": {
        "id": "jaZ4LrgUeJOX"
      },
      "outputs": [],
      "source": []
    },
    {
      "cell_type": "code",
      "execution_count": null,
      "metadata": {
        "colab": {
          "base_uri": "https://localhost:8080/",
          "height": 461
        },
        "id": "QNASTXsJWcf_",
        "outputId": "b79216ac-5eda-45cc-8cc4-93c9f6d20e33"
      },
      "outputs": [],
      "source": [
        "pd.read_csv('/content/demo_mlexpec.tsv', sep=/t)"
      ]
    },
    {
      "cell_type": "code",
      "execution_count": null,
      "metadata": {
        "colab": {
          "base_uri": "https://localhost:8080/",
          "height": 695
        },
        "id": "vytaQ6uvWaXq",
        "outputId": "85a636be-3c24-4a50-dee6-e327e7f3d27b"
      },
      "outputs": [],
      "source": [
        "pd.read_csv('/content/life_expectancy_in_europe.csv')"
      ]
    },
    {
      "cell_type": "markdown",
      "metadata": {
        "id": "sTnIr5HEgKij"
      },
      "source": [
        "opening a csv file from url\n",
        "# **bold text**"
      ]
    },
    {
      "cell_type": "code",
      "execution_count": null,
      "metadata": {
        "id": "iaE2oquCWLcS"
      },
      "outputs": [],
      "source": [
        "import requests\n",
        "from io import StringIO\n",
        "\n",
        "url=''\n",
        "headers={'User-Agent': 'Mozilla/5.0'}\n",
        "req=requests.get(url,headers=headers)\n",
        "pd.read_csv(StringIO(req.text))\n",
        "req=requests.get(url,headers=headers)\n",
        "data =StringIO(req.text)\n",
        "pd.read_csv(data)"
      ]
    },
    {
      "cell_type": "markdown",
      "metadata": {
        "id": "eIVPgk2qwCsd"
      },
      "source": [
        "index col this is used to convert any column as the idices  "
      ]
    },
    {
      "cell_type": "code",
      "execution_count": null,
      "metadata": {
        "colab": {
          "base_uri": "https://localhost:8080/",
          "height": 472
        },
        "id": "fZyib2ojv5Ad",
        "outputId": "f743b21e-ea55-413f-c0d1-8472a918a875"
      },
      "outputs": [],
      "source": [
        "pd.read_csv('/content/StudentsPerformance.csv',index_col='gender' )"
      ]
    },
    {
      "cell_type": "markdown",
      "metadata": {
        "id": "kilP3W8Mw-Nb"
      },
      "source": [
        "us_col parameter this is used to remove those columns which are of no use to your ml model\n",
        "like which column you do want to use\n"
      ]
    },
    {
      "cell_type": "code",
      "execution_count": null,
      "metadata": {
        "colab": {
          "base_uri": "https://localhost:8080/",
          "height": 423
        },
        "id": "57KAWsFvwYFU",
        "outputId": "5b478bf2-290a-414d-a679-8dbe8d5b392e"
      },
      "outputs": [],
      "source": [
        "pd.read_csv('/content/StudentsPerformance.csv',usecols=['parental level of education','test preparation course'])"
      ]
    },
    {
      "cell_type": "markdown",
      "metadata": {
        "id": "_vtTY4FbzNHL"
      },
      "source": [
        "# **squeeze parameters **"
      ]
    },
    {
      "cell_type": "code",
      "execution_count": null,
      "metadata": {
        "colab": {
          "base_uri": "https://localhost:8080/",
          "height": 141
        },
        "id": "fmiaUrgjzLG9",
        "outputId": "8cc5945a-9588-46e0-d796-d8d7811f0205"
      },
      "outputs": [],
      "source": [
        "pd.read_csv('/content/StudentsPerformance.csv',usecols=['parental level of education'] ,squeeze='true')"
      ]
    },
    {
      "cell_type": "code",
      "execution_count": null,
      "metadata": {
        "colab": {
          "base_uri": "https://localhost:8080/",
          "height": 423
        },
        "id": "PHVnRSI2zfuk",
        "outputId": "5b478bf2-290a-414d-a679-8dbe8d5b392e"
      },
      "outputs": [],
      "source": []
    },
    {
      "cell_type": "code",
      "execution_count": null,
      "metadata": {
        "colab": {
          "base_uri": "https://localhost:8080/",
          "height": 423
        },
        "id": "EVW1d4lU-czZ",
        "outputId": "9713781b-4c9c-4e5d-e527-a749a8bb4612"
      },
      "outputs": [],
      "source": [
        "p"
      ]
    },
    {
      "cell_type": "code",
      "execution_count": null,
      "metadata": {
        "id": "A9lOhOCJ-rBj"
      },
      "outputs": [],
      "source": []
    },
    {
      "cell_type": "code",
      "execution_count": null,
      "metadata": {
        "colab": {
          "base_uri": "https://localhost:8080/",
          "height": 206
        },
        "id": "21fab056",
        "outputId": "3e72822a-8fc9-4221-b13f-e4fac0cff181"
      },
      "outputs": [],
      "source": [
        "def skip_multiples_of_5(index):\n",
        "  \"\"\"\n",
        "  Returns True if the index is not a multiple of 5 (keep the row),\n",
        "  False otherwise (skip the row).\n",
        "  Note: pandas skiprows is 0-indexed, so we add 1 to check row number.\n",
        "  \"\"\"\n",
        "  # Add 1 to the index to get the actual row number (since index is 0-based)\n",
        "  return (index + 1) % 5 != 0\n",
        "\n",
        "# Now you can use this function with pd.read_csv\n",
        "# Replace 'your_file.csv' with the actual path to your CSV file\n",
        "try:\n",
        "  df_skipped = pd.read_csv('/content/StudentsPerformance.csv', skiprows=skip_multiples_of_5)\n",
        "  display(df_skipped.head())\n",
        "except FileNotFoundError:\n",
        "    print(\"Make sure 'StudentsPerformance.csv' is uploaded to your Colab environment.\")\n",
        "except Exception as e:\n",
        "    print(f\"An error occurred: {e}\")"
      ]
    },
    {
      "cell_type": "markdown",
      "metadata": {
        "id": "cT9HZgxJA7uU"
      },
      "source": [
        "# skip bad lines having the problem that rows should be increased and no of fields are more than the defined one\n"
      ]
    },
    {
      "cell_type": "code",
      "execution_count": null,
      "metadata": {
        "colab": {
          "base_uri": "https://localhost:8080/",
          "height": 443
        },
        "id": "-lXvjXMFBLrP",
        "outputId": "e30331c0-057a-4eab-e3b3-cfe852a6b5a0"
      },
      "outputs": [],
      "source": [
        "pd.read_csv('Student_performance_data.csv', on_bad_lines='skip')\n",
        "# new panada version 2.0 uses keyword on_bad_lines"
      ]
    },
    {
      "cell_type": "code",
      "execution_count": null,
      "metadata": {
        "colab": {
          "base_uri": "https://localhost:8080/"
        },
        "id": "lVmDDKXOCL0C",
        "outputId": "7d11b284-3253-426d-9db7-a93d11ececec"
      },
      "outputs": [],
      "source": [
        "pd.read_csv('/content/StudentsPerformance.csv').info()"
      ]
    },
    {
      "cell_type": "markdown",
      "metadata": {
        "id": "nC6shThLCAJB"
      },
      "source": [
        "# Data types parameter\n"
      ]
    },
    {
      "cell_type": "code",
      "execution_count": null,
      "metadata": {
        "colab": {
          "base_uri": "https://localhost:8080/"
        },
        "id": "w3Tm5OFwCFXn",
        "outputId": "7165f894-10eb-4b23-e430-0311356ab123"
      },
      "outputs": [],
      "source": [
        "pd.read_csv('/content/StudentsPerformance.csv',dtype={'math score':'float64'}).info()\n"
      ]
    },
    {
      "cell_type": "code",
      "execution_count": null,
      "metadata": {
        "colab": {
          "base_uri": "https://localhost:8080/"
        },
        "id": "pDpNVhQbCa04",
        "outputId": "78eb9307-6a2c-4675-c0b1-cb4f4c9212b6"
      },
      "outputs": [],
      "source": [
        "pd.read_csv('/content/StudentsPerformance.csv').info()"
      ]
    },
    {
      "cell_type": "markdown",
      "metadata": {
        "id": "caCAR1_ZFTtX"
      },
      "source": [
        "# loading a large dataset in chunks"
      ]
    },
    {
      "cell_type": "code",
      "execution_count": null,
      "metadata": {
        "id": "K4wko0T-FXpl"
      },
      "outputs": [],
      "source": []
    },
    {
      "cell_type": "code",
      "execution_count": null,
      "metadata": {
        "colab": {
          "base_uri": "https://localhost:8080/"
        },
        "id": "kaZLROMIFdhz",
        "outputId": "e7cb0156-9505-42b1-e2d7-89ad3818ae6d"
      },
      "outputs": [],
      "source": [
        "dfs=pd.read_csv('/content/StudentsPerformance.csv',chunksize=50)\n",
        "for chunks in dfs:\n",
        "  print(chunks.shape)"
      ]
    }
  ],
  "metadata": {
    "colab": {
      "provenance": []
    },
    "kernelspec": {
      "display_name": "geni",
      "language": "python",
      "name": "python3"
    },
    "language_info": {
      "name": "python",
      "version": "3.11.8"
    }
  },
  "nbformat": 4,
  "nbformat_minor": 0
}
